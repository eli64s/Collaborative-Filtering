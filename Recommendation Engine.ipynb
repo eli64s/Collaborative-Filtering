{
 "cells": [
  {
   "cell_type": "markdown",
   "metadata": {},
   "source": [
    "# Recommendation Engine"
   ]
  },
  {
   "cell_type": "markdown",
   "metadata": {},
   "source": [
    "### Collaborative Filtering using Matrix Factorization with Implicit Data"
   ]
  },
  {
   "cell_type": "raw",
   "metadata": {},
   "source": [
    "This script creates a recommendation engine that gives users travel option. This notebook uses arbitrary data, but is carefully modeled to replicate real airline travel data. \n",
    "\n",
    "The data we will be working with includes:\n",
    "-User ID                \n",
    "-Origin\n",
    "-Destination\n",
    "-Destination ID\n",
    "-Destination Region\n",
    "\n",
    "Implicit Data is data gathered by user behavior - in this example the user's previous flights destinations/regions. Explicit Data is more common in reccomendation systems using data based on a type of rating such as a streaming service."
   ]
  },
  {
   "cell_type": "markdown",
   "metadata": {},
   "source": [
    "# Import & Clean Data"
   ]
  },
  {
   "cell_type": "code",
   "execution_count": 298,
   "metadata": {},
   "outputs": [],
   "source": [
    "import pandas as pd\n",
    "import numpy as np\n",
    "import sys\n",
    "import random\n",
    "import string"
   ]
  },
  {
   "cell_type": "code",
   "execution_count": 299,
   "metadata": {},
   "outputs": [],
   "source": [
    "# Load User Flight Data\n",
    "user_data = pd.read_csv('user_data.txt')\n",
    "user_data.orig = user_data.orig.apply(lambda x: x.strip())\n",
    "user_data.dest = user_data.dest.apply(lambda y: y.strip())\n",
    "user_data['od'] = user_data.orig + user_data.dest\n",
    "\n",
    "# Region DataFrame \n",
    "region_data = user_data[['od', 'region']].drop_duplicates()"
   ]
  },
  {
   "cell_type": "code",
   "execution_count": 300,
   "metadata": {},
   "outputs": [],
   "source": [
    "# Create unique id for Origin Destination pair\n",
    "user_data['od_id'] = user_data.groupby('od').ngroup()\n",
    "user_data['user_id'] = user_data.groupby('user_id').ngroup()"
   ]
  },
  {
   "cell_type": "code",
   "execution_count": 301,
   "metadata": {},
   "outputs": [],
   "source": [
    "counts = user_data.groupby(['user_id', 'region'], as_index = False)['dest'].count()\n",
    "counts = counts.rename(columns = {'dest': 'freq'})\n",
    "user_data = pd.merge(user_data, counts, on = ['user_id', 'region'], how = 'left')"
   ]
  },
  {
   "cell_type": "markdown",
   "metadata": {},
   "source": [
    "# User Inputs"
   ]
  },
  {
   "cell_type": "code",
   "execution_count": 302,
   "metadata": {},
   "outputs": [
    {
     "name": "stdout",
     "output_type": "stream",
     "text": [
      "Where are you flying from: EWR\n",
      "Where do you want to go: CDG\n",
      "Enter a User ID to get recommendations: 66\n"
     ]
    }
   ],
   "source": [
    "origin = input('Where are you flying from: ')\n",
    "destination = input('Where do you want to go: ')\n",
    "user_id = int(input('Enter a User ID to get recommendations: '))\n",
    "user_data = user_data[user_data.orig == origin]\n",
    "\n",
    "try:\n",
    "    reg = user_data[user_data.od == origin + destination]['region'].values[0]\n",
    "except:\n",
    "    pass"
   ]
  },
  {
   "cell_type": "markdown",
   "metadata": {},
   "source": [
    "# Alternating Least Square (ALS) Algorithm"
   ]
  },
  {
   "cell_type": "code",
   "execution_count": 303,
   "metadata": {},
   "outputs": [],
   "source": [
    "import implicit\n",
    "import scipy.sparse as sparse\n",
    "from scipy.sparse.linalg import spsolve\n",
    "from sklearn.preprocessing import MinMaxScaler\n",
    "\n",
    "'''\n",
    "The implicit library expects user_data as a item-user matrix so we create two matricies:\n",
    "1.) Fitting the Model (item-user) \n",
    "2.) Recommendations (user-item)\n",
    "'''\n",
    "\n",
    "sparse_item_user = sparse.csr_matrix((user_data['freq'].astype(float), (user_data['od_id'], user_data['user_id'])))\n",
    "sparse_user_item = sparse.csr_matrix((user_data['freq'].astype(float), (user_data['user_id'], user_data['od_id'])))"
   ]
  },
  {
   "cell_type": "code",
   "execution_count": 304,
   "metadata": {},
   "outputs": [
    {
     "data": {
      "application/vnd.jupyter.widget-view+json": {
       "model_id": "8031b0d1877a470e85f186293e3f8f8f",
       "version_major": 2,
       "version_minor": 0
      },
      "text/plain": [
       "HBox(children=(IntProgress(value=0, max=5000), HTML(value='')))"
      ]
     },
     "metadata": {},
     "output_type": "display_data"
    },
    {
     "name": "stdout",
     "output_type": "stream",
     "text": [
      "\n"
     ]
    }
   ],
   "source": [
    "# Initialize the ALS model and fit it using the sparse item-user matrix\n",
    "model = implicit.als.AlternatingLeastSquares(factors = 10, \n",
    "                                             regularization = 0.1,\n",
    "                                             iterations = 5000\n",
    "                                            )\n",
    "\n",
    "# Calculate the confidence by multiplying it by our alpha value.\n",
    "alpha_value = 27\n",
    "data_conf = (sparse_item_user * alpha_value).astype('double')\n",
    "\n",
    "#Fit the model\n",
    "model.fit(data_conf)"
   ]
  },
  {
   "cell_type": "markdown",
   "metadata": {},
   "source": [
    "#### Compute the n Most Similar Items for the User-Defined Origin Destination Pair ID"
   ]
  },
  {
   "cell_type": "code",
   "execution_count": 305,
   "metadata": {},
   "outputs": [
    {
     "name": "stdout",
     "output_type": "stream",
     "text": [
      "CDG\n",
      "STL\n",
      "UVF\n",
      "PLS\n",
      "BZE\n",
      "SDQ\n",
      "MSY\n",
      "BNA\n",
      "FLL\n",
      "BDL\n",
      "BRU\n",
      "MEX\n",
      "CMH\n",
      "POS\n",
      "LHR\n",
      "PBI\n",
      "TLV\n",
      "YYZ\n",
      "SRQ\n",
      "IND\n"
     ]
    }
   ],
   "source": [
    "item_id = user_data[user_data.dest == destination]['od_id'].values[0]\n",
    "n_similar = 20                                    # Number of similar items to compute\n",
    "similar = model.similar_items(item_id, n_similar) # Use implicit to get similar items\n",
    "\n",
    "for item in similar:                              # Print names of the most similar airports\n",
    "    idx, score = item\n",
    "    print(user_data.dest.loc[user_data.od_id == idx].iloc[0])"
   ]
  },
  {
   "cell_type": "markdown",
   "metadata": {},
   "source": [
    "#### Create Recommendations for a Unique User ID"
   ]
  },
  {
   "cell_type": "code",
   "execution_count": 306,
   "metadata": {},
   "outputs": [],
   "source": [
    "recommended = model.recommend(user_id, sparse_user_item) # Use the implicit recommender\n",
    "airports = []                                            # Empty list to append data\n",
    "scores = []\n",
    "\n",
    "for item in recommended:                                 # Get airport names from ids\n",
    "    idx, score = item\n",
    "    airports.append(user_data.dest.loc[user_data.od_id == idx].iloc[0])\n",
    "    scores.append(score.round(3))\n",
    "\n",
    "# Create DataFrame with  recommended airports and scores\n",
    "recommendations = pd.DataFrame({'destination': airports, 'score': scores})"
   ]
  },
  {
   "cell_type": "markdown",
   "metadata": {},
   "source": [
    "#### Clean Data and Join Tables - to provide more information about the recommendations"
   ]
  },
  {
   "cell_type": "code",
   "execution_count": 307,
   "metadata": {},
   "outputs": [
    {
     "data": {
      "text/html": [
       "<div>\n",
       "<style scoped>\n",
       "    .dataframe tbody tr th:only-of-type {\n",
       "        vertical-align: middle;\n",
       "    }\n",
       "\n",
       "    .dataframe tbody tr th {\n",
       "        vertical-align: top;\n",
       "    }\n",
       "\n",
       "    .dataframe thead th {\n",
       "        text-align: right;\n",
       "    }\n",
       "</style>\n",
       "<table border=\"1\" class=\"dataframe\">\n",
       "  <thead>\n",
       "    <tr style=\"text-align: right;\">\n",
       "      <th></th>\n",
       "      <th>origin</th>\n",
       "      <th>destination</th>\n",
       "      <th>region</th>\n",
       "      <th>city</th>\n",
       "      <th>country</th>\n",
       "      <th>score</th>\n",
       "    </tr>\n",
       "  </thead>\n",
       "  <tbody>\n",
       "    <tr>\n",
       "      <td>0</td>\n",
       "      <td>EWR</td>\n",
       "      <td>BOS</td>\n",
       "      <td>49S</td>\n",
       "      <td>Boston</td>\n",
       "      <td>United States</td>\n",
       "      <td>0.420</td>\n",
       "    </tr>\n",
       "    <tr>\n",
       "      <td>1</td>\n",
       "      <td>EWR</td>\n",
       "      <td>ZRH</td>\n",
       "      <td>ATL</td>\n",
       "      <td>Zurich</td>\n",
       "      <td>Switzerland</td>\n",
       "      <td>0.372</td>\n",
       "    </tr>\n",
       "    <tr>\n",
       "      <td>2</td>\n",
       "      <td>EWR</td>\n",
       "      <td>BTV</td>\n",
       "      <td>49S</td>\n",
       "      <td>Burlington</td>\n",
       "      <td>United States</td>\n",
       "      <td>0.332</td>\n",
       "    </tr>\n",
       "    <tr>\n",
       "      <td>3</td>\n",
       "      <td>EWR</td>\n",
       "      <td>BCN</td>\n",
       "      <td>ATL</td>\n",
       "      <td>Barcelona</td>\n",
       "      <td>Spain</td>\n",
       "      <td>0.289</td>\n",
       "    </tr>\n",
       "    <tr>\n",
       "      <td>4</td>\n",
       "      <td>EWR</td>\n",
       "      <td>FCO</td>\n",
       "      <td>ATL</td>\n",
       "      <td>Rome</td>\n",
       "      <td>Italy</td>\n",
       "      <td>0.289</td>\n",
       "    </tr>\n",
       "    <tr>\n",
       "      <td>5</td>\n",
       "      <td>EWR</td>\n",
       "      <td>IAH</td>\n",
       "      <td>49S</td>\n",
       "      <td>Houston</td>\n",
       "      <td>United States</td>\n",
       "      <td>0.284</td>\n",
       "    </tr>\n",
       "    <tr>\n",
       "      <td>6</td>\n",
       "      <td>EWR</td>\n",
       "      <td>DUB</td>\n",
       "      <td>ATL</td>\n",
       "      <td>Dublin</td>\n",
       "      <td>Ireland</td>\n",
       "      <td>0.280</td>\n",
       "    </tr>\n",
       "    <tr>\n",
       "      <td>7</td>\n",
       "      <td>EWR</td>\n",
       "      <td>ORF</td>\n",
       "      <td>49S</td>\n",
       "      <td>Norfolk</td>\n",
       "      <td>United States</td>\n",
       "      <td>0.279</td>\n",
       "    </tr>\n",
       "    <tr>\n",
       "      <td>8</td>\n",
       "      <td>EWR</td>\n",
       "      <td>EDI</td>\n",
       "      <td>ATL</td>\n",
       "      <td>Edinburgh</td>\n",
       "      <td>United Kingdom</td>\n",
       "      <td>0.275</td>\n",
       "    </tr>\n",
       "    <tr>\n",
       "      <td>9</td>\n",
       "      <td>EWR</td>\n",
       "      <td>TLV</td>\n",
       "      <td>ATL</td>\n",
       "      <td>Tel Aviv Yafo</td>\n",
       "      <td>Israel</td>\n",
       "      <td>0.270</td>\n",
       "    </tr>\n",
       "  </tbody>\n",
       "</table>\n",
       "</div>"
      ],
      "text/plain": [
       "  origin destination region           city         country  score\n",
       "0    EWR         BOS    49S         Boston   United States  0.420\n",
       "1    EWR         ZRH    ATL         Zurich     Switzerland  0.372\n",
       "2    EWR         BTV    49S     Burlington   United States  0.332\n",
       "3    EWR         BCN    ATL      Barcelona           Spain  0.289\n",
       "4    EWR         FCO    ATL           Rome           Italy  0.289\n",
       "5    EWR         IAH    49S        Houston   United States  0.284\n",
       "6    EWR         DUB    ATL         Dublin         Ireland  0.280\n",
       "7    EWR         ORF    49S        Norfolk   United States  0.279\n",
       "8    EWR         EDI    ATL      Edinburgh  United Kingdom  0.275\n",
       "9    EWR         TLV    ATL  Tel Aviv Yafo          Israel  0.270"
      ]
     },
     "execution_count": 307,
     "metadata": {},
     "output_type": "execute_result"
    }
   ],
   "source": [
    "# Join Airport Codes to imported .csv file with it's respective city/country\n",
    "cities = pd.read_csv('city_code.csv', engine = 'python')\n",
    "recs = pd.merge(recommendations, cities, on = 'destination', how = 'left')\n",
    "recs['origin'] = origin\n",
    "recs['od'] = recs.origin + recs.destination\n",
    "recs = pd.merge(recs, region_data, on = 'od', how = 'left')\n",
    "#recs = recs[recs.region == reg]\n",
    "recs = recs[['origin', 'destination', 'region', 'city', 'country', 'score']].reset_index(drop = True)\n",
    "recs"
   ]
  }
 ],
 "metadata": {
  "kernelspec": {
   "display_name": "Python 3",
   "language": "python",
   "name": "python3"
  },
  "language_info": {
   "codemirror_mode": {
    "name": "ipython",
    "version": 3
   },
   "file_extension": ".py",
   "mimetype": "text/x-python",
   "name": "python",
   "nbconvert_exporter": "python",
   "pygments_lexer": "ipython3",
   "version": "3.7.4"
  }
 },
 "nbformat": 4,
 "nbformat_minor": 2
}
