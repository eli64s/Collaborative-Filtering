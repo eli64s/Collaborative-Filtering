{
 "cells": [
  {
   "cell_type": "markdown",
   "metadata": {},
   "source": [
    "# Recommendation Engine"
   ]
  },
  {
   "cell_type": "markdown",
   "metadata": {},
   "source": [
    "### Collaborative Filtering using Matrix Factorization with Implicit Data"
   ]
  },
  {
   "cell_type": "markdown",
   "metadata": {},
   "source": [
    "This script creates a recommendation engine that gives users travel options based off other user's histroy. This notebook uses mock data, but is carefully modeled to replicate real airline travel data. \n",
    "\n",
    "The data we will be working with includes:\n",
    "- User ID                \n",
    "- Origin\n",
    "- Destination\n",
    "- Origin Destination ID\n",
    "- Destination Region\n",
    "\n",
    "Implicit Data is used in this script, which is data gathered by user behavior - in this example the user's previous flights destinations/regions. Explicit Data is more common in reccomendation systems using data based on a type of rating such as a streaming service.\n",
    "\n",
    "This recommendation engine is still a work in progress so feel free to leave comments and suggestions!"
   ]
  },
  {
   "cell_type": "markdown",
   "metadata": {},
   "source": [
    "# Import & Manipulate Data"
   ]
  },
  {
   "cell_type": "code",
   "execution_count": 1,
   "metadata": {},
   "outputs": [],
   "source": [
    "import pandas as pd\n",
    "import numpy as np\n",
    "import sys\n",
    "import random\n",
    "import string"
   ]
  },
  {
   "cell_type": "code",
   "execution_count": 2,
   "metadata": {},
   "outputs": [],
   "source": [
    "# Import User Flight Data\n",
    "# Mock Data Set will be available soon\n",
    "user_data = pd.read_csv(r\"\",\n",
    "                        delimiter = ' *, *', # strips whitespace \n",
    "                        engine = 'python')\n",
    "\n",
    "# Create flight orgin destination 'od' path column\n",
    "user_data['od'] = user_data.orig + user_data.dest\n",
    "\n",
    "# Geographical Region DataFrame to join to the recommendations results at the end\n",
    "region_data = user_data[['od', 'region']].drop_duplicates()"
   ]
  },
  {
   "cell_type": "code",
   "execution_count": 3,
   "metadata": {},
   "outputs": [],
   "source": [
    "# Create unique ids for users and the od paths \n",
    "user_data['od_id'] = user_data.groupby('od').ngroup()\n",
    "user_data['user_id'] = user_data.groupby('user_id').ngroup()\n",
    "\n",
    "# The 'counts' DataFrame is aggregated by the user's total trips to a certain geographic region\n",
    "counts = user_data.groupby(['user_id', 'region'], as_index = False)['dest'].count()\n",
    "counts = counts.rename(columns = {'dest': 'visits'})\n",
    "user_data = pd.merge(user_data, counts, on = ['user_id', 'region'], how = 'left')"
   ]
  },
  {
   "cell_type": "markdown",
   "metadata": {},
   "source": [
    "# User Inputs"
   ]
  },
  {
   "cell_type": "code",
   "execution_count": 4,
   "metadata": {},
   "outputs": [
    {
     "name": "stdout",
     "output_type": "stream",
     "text": [
      "Where are you flying from: EWR\n",
      "Where do you want to go: LHR\n"
     ]
    }
   ],
   "source": [
    "origin = input('Where are you flying from: ')\n",
    "destination = input('Where do you want to go: ')\n",
    "#user_id = int(input('Enter a User ID to get recommendations: '))\n",
    "user_id = random.choice(user_data.user_id.unique())\n",
    "user_data = user_data[user_data.orig == origin]\n",
    "\n",
    "try:\n",
    "    reg = user_data[user_data.od == origin + destination]['region'].values[0]\n",
    "except:\n",
    "    pass"
   ]
  },
  {
   "cell_type": "markdown",
   "metadata": {},
   "source": [
    "# Alternating Least Square (ALS) Algorithm"
   ]
  },
  {
   "cell_type": "code",
   "execution_count": 5,
   "metadata": {},
   "outputs": [],
   "source": [
    "import implicit\n",
    "import scipy.sparse as sparse\n",
    "\n",
    "'''\n",
    "The implicit library expects user_data as a item-user matrix so we create two matricies:\n",
    "1.) Fitting the Model (item-user) \n",
    "2.) Recommendations (user-item)\n",
    "'''\n",
    "\n",
    "sparse_item_user = sparse.csr_matrix((user_data['visits'].astype(float), (user_data['od_id'], user_data['user_id'])))\n",
    "sparse_user_item = sparse.csr_matrix((user_data['visits'].astype(float), (user_data['user_id'], user_data['od_id'])))"
   ]
  },
  {
   "cell_type": "code",
   "execution_count": 6,
   "metadata": {},
   "outputs": [
    {
     "name": "stderr",
     "output_type": "stream",
     "text": [
      "WARNING:root:Intel MKL BLAS detected. Its highly recommend to set the environment variable 'export MKL_NUM_THREADS=1' to disable its internal multithreading\n"
     ]
    },
    {
     "data": {
      "application/vnd.jupyter.widget-view+json": {
       "model_id": "35bc515391fe44a6a45a5a89722547ed",
       "version_major": 2,
       "version_minor": 0
      },
      "text/plain": [
       "HBox(children=(IntProgress(value=0, max=10000), HTML(value='')))"
      ]
     },
     "metadata": {},
     "output_type": "display_data"
    },
    {
     "name": "stdout",
     "output_type": "stream",
     "text": [
      "\n"
     ]
    }
   ],
   "source": [
    "# Initialize the ALS model and fit it using the sparse item-user matrix\n",
    "model = implicit.als.AlternatingLeastSquares(factors = 20, \n",
    "                                             regularization = 0.1,\n",
    "                                             iterations = 10000\n",
    "                                            )\n",
    "\n",
    "# Calculate the confidence by multiplying it by the alpha value.\n",
    "alpha_value = 25\n",
    "data_confidence = (sparse_item_user * alpha_value).astype('double')\n",
    "\n",
    "#Fit the model\n",
    "model.fit(data_confidence)"
   ]
  },
  {
   "cell_type": "markdown",
   "metadata": {},
   "source": [
    "#### Compute the n Most Similar Items for the User-Defined Origin Destination Pair ID"
   ]
  },
  {
   "cell_type": "code",
   "execution_count": 7,
   "metadata": {},
   "outputs": [
    {
     "name": "stdout",
     "output_type": "stream",
     "text": [
      "LHR\n",
      "BOG\n",
      "EYW\n",
      "TUL\n",
      "LIR\n",
      "BCN\n",
      "CDG\n",
      "FLL\n",
      "BNA\n",
      "PEK\n"
     ]
    }
   ],
   "source": [
    "item_id = user_data[user_data.dest == destination]['od_id'].values[0]\n",
    "n_similar = 10                                    # Number of similar items to compute\n",
    "similar = model.similar_items(item_id, n_similar) # Use implicit to get similar items\n",
    "\n",
    "for item in similar:                              # Print names of the most similar airports\n",
    "    i, score = item\n",
    "    print(user_data.dest.loc[user_data.od_id == i].iloc[0])"
   ]
  },
  {
   "cell_type": "markdown",
   "metadata": {},
   "source": [
    "#### Create Recommendations for a Unique User ID"
   ]
  },
  {
   "cell_type": "code",
   "execution_count": 8,
   "metadata": {},
   "outputs": [],
   "source": [
    "recommended = model.recommend(user_id, sparse_user_item) # Use the implicit recommender\n",
    "airports = []                                            # Empty list to append data\n",
    "scores = []\n",
    "\n",
    "for item in recommended:                                 # Get airport names from ids\n",
    "    i, score = item\n",
    "    try:\n",
    "        airports.append(user_data.dest.loc[user_data.od_id == i].iloc[0])\n",
    "        scores.append(score.round(3))\n",
    "    except:\n",
    "        continue\n",
    "        \n",
    "# Create DataFrame with  recommended airports and scores\n",
    "recommendations = pd.DataFrame({'origin': origin,\n",
    "                                'destination': airports,\n",
    "                                'score': scores\n",
    "                               })"
   ]
  },
  {
   "cell_type": "markdown",
   "metadata": {},
   "source": [
    "#### Join tables and prepare data - to provide supplement information about the recommendations"
   ]
  },
  {
   "cell_type": "code",
   "execution_count": 9,
   "metadata": {},
   "outputs": [
    {
     "name": "stdout",
     "output_type": "stream",
     "text": [
      "Input: EWRLHR\n"
     ]
    },
    {
     "data": {
      "text/html": [
       "<div>\n",
       "<style scoped>\n",
       "    .dataframe tbody tr th:only-of-type {\n",
       "        vertical-align: middle;\n",
       "    }\n",
       "\n",
       "    .dataframe tbody tr th {\n",
       "        vertical-align: top;\n",
       "    }\n",
       "\n",
       "    .dataframe thead th {\n",
       "        text-align: right;\n",
       "    }\n",
       "</style>\n",
       "<table border=\"1\" class=\"dataframe\">\n",
       "  <thead>\n",
       "    <tr style=\"text-align: right;\">\n",
       "      <th></th>\n",
       "      <th>origin</th>\n",
       "      <th>destination</th>\n",
       "      <th>region</th>\n",
       "      <th>city</th>\n",
       "      <th>country</th>\n",
       "      <th>score</th>\n",
       "    </tr>\n",
       "  </thead>\n",
       "  <tbody>\n",
       "    <tr>\n",
       "      <td>0</td>\n",
       "      <td>EWR</td>\n",
       "      <td>CUN</td>\n",
       "      <td>MBH</td>\n",
       "      <td>Cancun</td>\n",
       "      <td>Mexico</td>\n",
       "      <td>0.585</td>\n",
       "    </tr>\n",
       "    <tr>\n",
       "      <td>1</td>\n",
       "      <td>EWR</td>\n",
       "      <td>AVL</td>\n",
       "      <td>49S</td>\n",
       "      <td>Fletcher</td>\n",
       "      <td>United States</td>\n",
       "      <td>0.495</td>\n",
       "    </tr>\n",
       "    <tr>\n",
       "      <td>2</td>\n",
       "      <td>EWR</td>\n",
       "      <td>RDU</td>\n",
       "      <td>49S</td>\n",
       "      <td>Raleigh/Durham</td>\n",
       "      <td>United States</td>\n",
       "      <td>0.441</td>\n",
       "    </tr>\n",
       "    <tr>\n",
       "      <td>3</td>\n",
       "      <td>EWR</td>\n",
       "      <td>MIA</td>\n",
       "      <td>49S</td>\n",
       "      <td>Miami</td>\n",
       "      <td>United States</td>\n",
       "      <td>0.433</td>\n",
       "    </tr>\n",
       "    <tr>\n",
       "      <td>4</td>\n",
       "      <td>EWR</td>\n",
       "      <td>YUL</td>\n",
       "      <td>49S</td>\n",
       "      <td>Montreal</td>\n",
       "      <td>Canada</td>\n",
       "      <td>0.431</td>\n",
       "    </tr>\n",
       "    <tr>\n",
       "      <td>5</td>\n",
       "      <td>EWR</td>\n",
       "      <td>BOM</td>\n",
       "      <td>ATL</td>\n",
       "      <td>Mumbai</td>\n",
       "      <td>India</td>\n",
       "      <td>0.384</td>\n",
       "    </tr>\n",
       "    <tr>\n",
       "      <td>6</td>\n",
       "      <td>EWR</td>\n",
       "      <td>BTV</td>\n",
       "      <td>49S</td>\n",
       "      <td>Burlington</td>\n",
       "      <td>United States</td>\n",
       "      <td>0.348</td>\n",
       "    </tr>\n",
       "    <tr>\n",
       "      <td>7</td>\n",
       "      <td>EWR</td>\n",
       "      <td>TUL</td>\n",
       "      <td>49S</td>\n",
       "      <td>Tulsa</td>\n",
       "      <td>United States</td>\n",
       "      <td>0.337</td>\n",
       "    </tr>\n",
       "    <tr>\n",
       "      <td>8</td>\n",
       "      <td>EWR</td>\n",
       "      <td>AMS</td>\n",
       "      <td>ATL</td>\n",
       "      <td>Haarlemmermeer</td>\n",
       "      <td>The Netherlands</td>\n",
       "      <td>0.328</td>\n",
       "    </tr>\n",
       "    <tr>\n",
       "      <td>9</td>\n",
       "      <td>EWR</td>\n",
       "      <td>HKG</td>\n",
       "      <td>PAC</td>\n",
       "      <td>Hong Kong</td>\n",
       "      <td>China</td>\n",
       "      <td>0.324</td>\n",
       "    </tr>\n",
       "  </tbody>\n",
       "</table>\n",
       "</div>"
      ],
      "text/plain": [
       "  origin destination region            city          country  score\n",
       "0    EWR         CUN    MBH          Cancun           Mexico  0.585\n",
       "1    EWR         AVL    49S        Fletcher    United States  0.495\n",
       "2    EWR         RDU    49S  Raleigh/Durham    United States  0.441\n",
       "3    EWR         MIA    49S           Miami    United States  0.433\n",
       "4    EWR         YUL    49S        Montreal           Canada  0.431\n",
       "5    EWR         BOM    ATL          Mumbai            India  0.384\n",
       "6    EWR         BTV    49S      Burlington    United States  0.348\n",
       "7    EWR         TUL    49S           Tulsa    United States  0.337\n",
       "8    EWR         AMS    ATL  Haarlemmermeer  The Netherlands  0.328\n",
       "9    EWR         HKG    PAC       Hong Kong            China  0.324"
      ]
     },
     "execution_count": 9,
     "metadata": {},
     "output_type": "execute_result"
    }
   ],
   "source": [
    "# Join Airport Codes to imported .csv file with it's respective city/country\n",
    "cities = pd.read_csv('city_codes.csv', engine = 'python')\n",
    "\n",
    "# Join DataFrames and clean up columns \n",
    "recs = pd.merge(recommendations, cities, on = 'destination', how = 'left')\n",
    "recs['od'] = recs.origin + recs.destination\n",
    "recs = pd.merge(recs, region_data, on = 'od', how = 'left')\n",
    "#recs = recs[recs.region == reg]\n",
    "recs = recs[['origin', 'destination', 'region', 'city', 'country', 'score']].reset_index(drop = True)\n",
    "\n",
    "# Print Results\n",
    "print('Input: {}{}'.format(origin, destination))\n",
    "recs"
   ]
  },
  {
   "cell_type": "code",
   "execution_count": null,
   "metadata": {},
   "outputs": [],
   "source": []
  }
 ],
 "metadata": {
  "kernelspec": {
   "display_name": "Python 3",
   "language": "python",
   "name": "python3"
  },
  "language_info": {
   "codemirror_mode": {
    "name": "ipython",
    "version": 3
   },
   "file_extension": ".py",
   "mimetype": "text/x-python",
   "name": "python",
   "nbconvert_exporter": "python",
   "pygments_lexer": "ipython3",
   "version": "3.7.4"
  }
 },
 "nbformat": 4,
 "nbformat_minor": 2
}
