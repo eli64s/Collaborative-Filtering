{
 "cells": [
  {
   "cell_type": "markdown",
   "metadata": {},
   "source": [
    "# Collaborative Filtering Recommendar System"
   ]
  },
  {
   "cell_type": "markdown",
   "metadata": {},
   "source": [
    "#### Using Implicit Data and Alternating Squares Recommender Model Fitting"
   ]
  },
  {
   "cell_type": "raw",
   "metadata": {},
   "source": [
    "This script creates a recommendation engine that gives user travel options based on another user. I work for an airline and the travel perks drove the inspiration of this project. However, the data used in this notebook is ARBITRARY, but carefully created to model real airline travel data. \n",
    "\n",
    "The data we will be working with includes:\n",
    "    1) user_id\n",
    "    2) destination_id\n",
    "    3) destination\n",
    "    4) destination_region\n",
    "    5) season"
   ]
  },
  {
   "cell_type": "markdown",
   "metadata": {},
   "source": [
    "# Clean Data"
   ]
  },
  {
   "cell_type": "code",
   "execution_count": 7,
   "metadata": {},
   "outputs": [],
   "source": [
    "import pandas as pd\n",
    "import numpy as np\n",
    "import sys\n",
    "import random\n",
    "import string\n",
    "import implicit\n",
    "\n",
    "import scipy.sparse as sparse\n",
    "from scipy.sparse.linalg import spsolve\n",
    "from sklearn.preprocessing import MinMaxScaler"
   ]
  },
  {
   "cell_type": "code",
   "execution_count": 8,
   "metadata": {},
   "outputs": [],
   "source": [
    "data = [   \n",
    "    ('user_id', 'airport_id', 'airport', 'region', 'season'),\n",
    "    # IF u355541 flew 8 times in the summer\n",
    "        '''\n",
    "        4 to asia    - then asian summer flights get a  4 - 0.2\n",
    "        2 to florida - if florida destination is twice, then +0.2\n",
    "        1 to europe  \n",
    "        1 to latin\n",
    "        '''\n",
    "]"
   ]
  },
  {
   "cell_type": "code",
   "execution_count": 9,
   "metadata": {},
   "outputs": [],
   "source": [
    "origs = [   \n",
    "    (1, 'ORD', 'Midwest'),\n",
    "    (2, 'LAX', 'West'),\n",
    "    (3, 'SFO', 'West'),\n",
    "    (4, 'IAH', 'South'),\n",
    "    (5, 'DEN', 'Snow'),\n",
    "    (6, 'IAD', 'East'),\n",
    "    (7, 'EWR', 'East')\n",
    "]\n",
    "\n",
    "dests = [\n",
    "    (1, 'ORD', 'Midwest'),\n",
    "    (2, 'LAX', 'Sun'),\n",
    "    (3, 'SFO', 'West'),\n",
    "    (4, 'IAH', 'Sun'),\n",
    "    (5, 'DEN', 'Snow'),\n",
    "    (6, 'IAD', 'East'),\n",
    "    (7, 'EWR', 'East'),\n",
    "    (8, 'MCO', 'Sun'),\n",
    "    (9, 'TPA', 'Sun'),\n",
    "    (10, 'MIA', 'Sun'),\n",
    "    (11, 'RSW', 'Sun'),\n",
    "\n",
    "    # Europe\n",
    "    (12, 'LHR', 'EURO'),\n",
    "    (13, 'CVG', 'EURO'),\n",
    "    (14, 'AMS', 'EURO'),\n",
    "    (15, 'DUB', 'EURO'),\n",
    "    (16, 'BRU', 'EURO'),\n",
    "    (17, 'MUC', 'EURO'),\n",
    "    (18, 'FRA', 'EURO'),\n",
    "    (19, 'BHM', 'EURO'),\n",
    "\n",
    "    # Asia\n",
    "    (20, 'ICN', 'ASIA'),\n",
    "    (21, 'NRT', 'ASIA'),\n",
    "    (22, 'KIX', 'ASIA'),\n",
    "    (23, 'PVG', 'ASIA'),\n",
    "    (24, 'HKG', 'ASIA'),\n",
    "    (25, 'PEK', 'ASIA'),\n",
    "    (26, 'TPE', 'ASIA'),\n",
    "    (27, 'SIN', 'ASIA'),\n",
    "\n",
    "    # Latin America\n",
    "    (28, 'EZE', 'LAT'),\n",
    "    (29, 'GRU', 'LAT'),\n",
    "    (30, 'GIG', 'LAT'),\n",
    "    (31, 'BOG', 'LAT'),\n",
    "    (32, 'SCL', 'LAT'),\n",
    "    (33, 'TGU', 'LAT'),\n",
    "    (34, 'MEX', 'LAT')\n",
    "]"
   ]
  },
  {
   "cell_type": "code",
   "execution_count": 12,
   "metadata": {},
   "outputs": [],
   "source": [
    "# Create an empty DataFrame\n",
    "data = pd.DataFrame()\n",
    "\n",
    "# Select amount of random data to generate \n",
    "n = 3000\n",
    "\n",
    "# Append random data to new DataFrame columns\n",
    "data['user_id'] = [random.choice(range(1,99)) for i in range(n)] \n",
    "data['origin_tuple'] = [random.choice(origs) for i in range(n)]\n",
    "data['destination_tuple'] = [random.choice(dests) for i in range(n)]\n",
    "\n",
    "# Transform Tuple() items to DataFrame column\n",
    "data = data.join(pd.DataFrame(data['origin_tuple'].values.tolist(), columns = \n",
    "                              ['orig_id', 'orig', 'orig_reg']\n",
    "                             )\n",
    "                )\n",
    "data = data.join(pd.DataFrame(data['destination_tuple'].values.tolist(), columns = \n",
    "                              ['dest_id', 'dest', 'dest_reg']\n",
    "                             )\n",
    "                )\n",
    "data = data[[\n",
    "    'user_id',\n",
    "    'dest_id',\n",
    "    'orig',\n",
    "    'dest',\n",
    "    'dest_reg'\n",
    "]]"
   ]
  },
  {
   "cell_type": "code",
   "execution_count": 13,
   "metadata": {},
   "outputs": [],
   "source": [
    "counts = data.groupby(['user_id', 'dest_reg'], as_index = False)['dest'].count()\n",
    "counts = counts.rename(columns = {'dest': 'freq'})\n",
    "\n",
    "data = pd.merge(data, counts, on = ['user_id', 'dest_reg'], how = 'left')"
   ]
  },
  {
   "cell_type": "markdown",
   "metadata": {},
   "source": [
    "# Alternating Least Squares"
   ]
  },
  {
   "cell_type": "code",
   "execution_count": 14,
   "metadata": {},
   "outputs": [],
   "source": [
    "'''\n",
    "The implicit library expects data as a item-user matrix so we create two matricies,\n",
    "one for fitting the model (item-user) and one for recommendations (user-item)\n",
    "'''\n",
    "sparse_item_user = sparse.csr_matrix((data['freq'].astype(float), (data['dest_id'], data['user_id'])))\n",
    "sparse_user_item = sparse.csr_matrix((data['freq'].astype(float), (data['user_id'], data['dest_id'])))"
   ]
  },
  {
   "cell_type": "code",
   "execution_count": 15,
   "metadata": {},
   "outputs": [
    {
     "name": "stderr",
     "output_type": "stream",
     "text": [
      "WARNING:root:Intel MKL BLAS detected. Its highly recommend to set the environment variable 'export MKL_NUM_THREADS=1' to disable its internal multithreading\n"
     ]
    },
    {
     "data": {
      "application/vnd.jupyter.widget-view+json": {
       "model_id": "7943b826602d440b9214788c6c247383",
       "version_major": 2,
       "version_minor": 0
      },
      "text/plain": [
       "HBox(children=(IntProgress(value=0, max=20), HTML(value='')))"
      ]
     },
     "metadata": {},
     "output_type": "display_data"
    },
    {
     "name": "stdout",
     "output_type": "stream",
     "text": [
      "\n"
     ]
    }
   ],
   "source": [
    "# Initialize the als model and fit it using the sparse item-user matrix\n",
    "model = implicit.als.AlternatingLeastSquares(factors = 20, regularization = 0.1, iterations = 20)\n",
    "\n",
    "# Calculate the confidence by multiplying it by our alpha value.\n",
    "alpha_val = 15\n",
    "data_conf = (sparse_item_user * alpha_val).astype('double')\n",
    "\n",
    "#Fit the model\n",
    "model.fit(data_conf)"
   ]
  },
  {
   "cell_type": "code",
   "execution_count": 16,
   "metadata": {},
   "outputs": [
    {
     "name": "stdout",
     "output_type": "stream",
     "text": [
      "PVG\n",
      "KIX\n",
      "MUC\n",
      "BOG\n",
      "MEX\n",
      "GIG\n",
      "GRU\n",
      "TGU\n",
      "MIA\n",
      "SIN\n"
     ]
    }
   ],
   "source": [
    "# Find the n most similar items to airport_id\n",
    "item_id = 23\n",
    "n_similar = 10\n",
    "\n",
    "# Use implicit to get similar items\n",
    "similar = model.similar_items(item_id, n_similar)\n",
    "\n",
    "# Print the names of our most similar airports\n",
    "for item in similar:\n",
    "    idx, score = item\n",
    "    print(data.dest.loc[data.dest_id == idx].iloc[0])"
   ]
  },
  {
   "cell_type": "code",
   "execution_count": 18,
   "metadata": {},
   "outputs": [
    {
     "name": "stdout",
     "output_type": "stream",
     "text": [
      "Enter User ID: 6\n"
     ]
    },
    {
     "data": {
      "text/html": [
       "<div>\n",
       "<style scoped>\n",
       "    .dataframe tbody tr th:only-of-type {\n",
       "        vertical-align: middle;\n",
       "    }\n",
       "\n",
       "    .dataframe tbody tr th {\n",
       "        vertical-align: top;\n",
       "    }\n",
       "\n",
       "    .dataframe thead th {\n",
       "        text-align: right;\n",
       "    }\n",
       "</style>\n",
       "<table border=\"1\" class=\"dataframe\">\n",
       "  <thead>\n",
       "    <tr style=\"text-align: right;\">\n",
       "      <th></th>\n",
       "      <th>Destination</th>\n",
       "      <th>Score</th>\n",
       "    </tr>\n",
       "  </thead>\n",
       "  <tbody>\n",
       "    <tr>\n",
       "      <td>0</td>\n",
       "      <td>MUC</td>\n",
       "      <td>0.990</td>\n",
       "    </tr>\n",
       "    <tr>\n",
       "      <td>1</td>\n",
       "      <td>MEX</td>\n",
       "      <td>0.983</td>\n",
       "    </tr>\n",
       "    <tr>\n",
       "      <td>2</td>\n",
       "      <td>TPA</td>\n",
       "      <td>0.983</td>\n",
       "    </tr>\n",
       "    <tr>\n",
       "      <td>3</td>\n",
       "      <td>GIG</td>\n",
       "      <td>0.939</td>\n",
       "    </tr>\n",
       "    <tr>\n",
       "      <td>4</td>\n",
       "      <td>LAX</td>\n",
       "      <td>0.850</td>\n",
       "    </tr>\n",
       "  </tbody>\n",
       "</table>\n",
       "</div>"
      ],
      "text/plain": [
       "  Destination  Score\n",
       "0         MUC  0.990\n",
       "1         MEX  0.983\n",
       "2         TPA  0.983\n",
       "3         GIG  0.939\n",
       "4         LAX  0.850"
      ]
     },
     "execution_count": 18,
     "metadata": {},
     "output_type": "execute_result"
    }
   ],
   "source": [
    "# Create recommendations for user with id\n",
    "user_id = int(input('Enter User ID: '))\n",
    "\n",
    "# Use the implicit recommender\n",
    "recommended = model.recommend(user_id, sparse_user_item)\n",
    "\n",
    "airports = []\n",
    "scores = []\n",
    "\n",
    "# Get airport names from the ids\n",
    "for item in recommended:\n",
    "    idx, score = item\n",
    "    airports.append(data.dest.loc[data.dest_id == idx].iloc[0])\n",
    "    scores.append(score.round(3))\n",
    "\n",
    "# Create a dataframe of airport names and scores\n",
    "recommendations = pd.DataFrame({'Destination': airports, 'Score': scores})\n",
    "\n",
    "recommendations[:5]"
   ]
  }
 ],
 "metadata": {
  "kernelspec": {
   "display_name": "Python 3",
   "language": "python",
   "name": "python3"
  },
  "language_info": {
   "codemirror_mode": {
    "name": "ipython",
    "version": 3
   },
   "file_extension": ".py",
   "mimetype": "text/x-python",
   "name": "python",
   "nbconvert_exporter": "python",
   "pygments_lexer": "ipython3",
   "version": "3.7.4"
  }
 },
 "nbformat": 4,
 "nbformat_minor": 2
}
