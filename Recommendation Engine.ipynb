{
 "cells": [
  {
   "cell_type": "markdown",
   "metadata": {},
   "source": [
    "# Recommendation Engine"
   ]
  },
  {
   "cell_type": "markdown",
   "metadata": {},
   "source": [
    "### Collaborative Filtering using Matrix Factorization with Implicit Data"
   ]
  },
  {
   "cell_type": "markdown",
   "metadata": {},
   "source": [
    "This script creates a recommendation engine that gives users travel option. This notebook uses arbitrary data, but is carefully modeled to replicate real airline travel data. \n",
    "\n",
    "The data we will be working with includes:\n",
    "- User ID                \n",
    "- Origin\n",
    "- Destination\n",
    "- Origin Destination ID\n",
    "- Destination Region\n",
    "\n",
    "Implicit Data is data gathered by user behavior - in this example the user's previous flights destinations/regions. Explicit Data is more common in reccomendation systems using data based on a type of rating such as a streaming service."
   ]
  },
  {
   "cell_type": "markdown",
   "metadata": {},
   "source": [
    "# Import & Manipulate Data"
   ]
  },
  {
   "cell_type": "code",
   "execution_count": 3,
   "metadata": {},
   "outputs": [],
   "source": [
    "import pandas as pd\n",
    "import numpy as np\n",
    "import sys\n",
    "import random\n",
    "import string"
   ]
  },
  {
   "cell_type": "code",
   "execution_count": 4,
   "metadata": {},
   "outputs": [],
   "source": [
    "# Load User Flight Data\n",
    "user_data = pd.read_csv("",\n",
    "                        delimiter = ' *, *', # strips whitespace \n",
    "                        engine = 'python')\n",
    "\n",
    "# Create flight orgin destination 'od' path column\n",
    "user_data['od'] = user_data.orig + user_data.dest\n",
    "\n",
    "# Region DataFrame to join recommendations to at the end\n",
    "region_data = user_data[['od', 'region']].drop_duplicates()"
   ]
  },
  {
   "cell_type": "code",
   "execution_count": 5,
   "metadata": {},
   "outputs": [],
   "source": [
    "# Create unique ids for users and the od paths \n",
    "user_data['od_id'] = user_data.groupby('od').ngroup()\n",
    "user_data['user_id'] = user_data.groupby('user_id').ngroup()"
   ]
  },
  {
   "cell_type": "code",
   "execution_count": 14,
   "metadata": {},
   "outputs": [],
   "source": [
    "counts = user_data.groupby(['user_id', 'region'], as_index = False)['dest'].count()\n",
    "counts = counts.rename(columns = {'dest': 'visits'})\n",
    "user_data = pd.merge(user_data, counts, on = ['user_id', 'region'], how = 'left')"
   ]
  },
  {
   "cell_type": "code",
   "execution_count": 15,
   "metadata": {},
   "outputs": [
    {
     "data": {
      "text/html": [
       "<div>\n",
       "<style scoped>\n",
       "    .dataframe tbody tr th:only-of-type {\n",
       "        vertical-align: middle;\n",
       "    }\n",
       "\n",
       "    .dataframe tbody tr th {\n",
       "        vertical-align: top;\n",
       "    }\n",
       "\n",
       "    .dataframe thead th {\n",
       "        text-align: right;\n",
       "    }\n",
       "</style>\n",
       "<table border=\"1\" class=\"dataframe\">\n",
       "  <thead>\n",
       "    <tr style=\"text-align: right;\">\n",
       "      <th></th>\n",
       "      <th>user_id</th>\n",
       "      <th>region</th>\n",
       "      <th>dest</th>\n",
       "    </tr>\n",
       "  </thead>\n",
       "  <tbody>\n",
       "    <tr>\n",
       "      <td>0</td>\n",
       "      <td>0</td>\n",
       "      <td>49S</td>\n",
       "      <td>80</td>\n",
       "    </tr>\n",
       "    <tr>\n",
       "      <td>1</td>\n",
       "      <td>0</td>\n",
       "      <td>CAR</td>\n",
       "      <td>2</td>\n",
       "    </tr>\n",
       "    <tr>\n",
       "      <td>2</td>\n",
       "      <td>0</td>\n",
       "      <td>HAW</td>\n",
       "      <td>10</td>\n",
       "    </tr>\n",
       "    <tr>\n",
       "      <td>3</td>\n",
       "      <td>1</td>\n",
       "      <td>49S</td>\n",
       "      <td>97</td>\n",
       "    </tr>\n",
       "    <tr>\n",
       "      <td>4</td>\n",
       "      <td>1</td>\n",
       "      <td>ATL</td>\n",
       "      <td>4</td>\n",
       "    </tr>\n",
       "  </tbody>\n",
       "</table>\n",
       "</div>"
      ],
      "text/plain": [
       "   user_id region  dest\n",
       "0        0    49S    80\n",
       "1        0    CAR     2\n",
       "2        0    HAW    10\n",
       "3        1    49S    97\n",
       "4        1    ATL     4"
      ]
     },
     "execution_count": 15,
     "metadata": {},
     "output_type": "execute_result"
    }
   ],
   "source": [
    "# counts DataFrame tells us how many times a user has flown to a certain region of the world\n",
    "user_data.groupby(['user_id', 'region'], as_index = False)['dest'].count().head(5)"
   ]
  },
  {
   "cell_type": "markdown",
   "metadata": {},
   "source": [
    "# User Inputs"
   ]
  },
  {
   "cell_type": "code",
   "execution_count": 16,
   "metadata": {},
   "outputs": [
    {
     "name": "stdout",
     "output_type": "stream",
     "text": [
      "Where are you flying from: ORD\n",
      "Where do you want to go: LHR\n"
     ]
    }
   ],
   "source": [
    "origin = input('Where are you flying from: ')\n",
    "destination = input('Where do you want to go: ')\n",
    "#user_id = int(input('Enter a User ID to get recommendations: '))\n",
    "user_id = random.choice(user_data.user_id.unique())\n",
    "user_data = user_data[user_data.orig == origin]\n",
    "\n",
    "try:\n",
    "    reg = user_data[user_data.od == origin + destination]['region'].values[0]\n",
    "except:\n",
    "    pass"
   ]
  },
  {
   "cell_type": "markdown",
   "metadata": {},
   "source": [
    "# Alternating Least Square (ALS) Algorithm"
   ]
  },
  {
   "cell_type": "code",
   "execution_count": 17,
   "metadata": {},
   "outputs": [],
   "source": [
    "import implicit\n",
    "import scipy.sparse as sparse\n",
    "\n",
    "'''\n",
    "The implicit library expects user_data as a item-user matrix so we create two matricies:\n",
    "1.) Fitting the Model (item-user) \n",
    "2.) Recommendations (user-item)\n",
    "'''\n",
    "\n",
    "sparse_item_user = sparse.csr_matrix((user_data['visits'].astype(float), (user_data['od_id'], user_data['user_id'])))\n",
    "sparse_user_item = sparse.csr_matrix((user_data['visits'].astype(float), (user_data['user_id'], user_data['od_id'])))"
   ]
  },
  {
   "cell_type": "code",
   "execution_count": 18,
   "metadata": {},
   "outputs": [
    {
     "name": "stderr",
     "output_type": "stream",
     "text": [
      "WARNING:root:Intel MKL BLAS detected. Its highly recommend to set the environment variable 'export MKL_NUM_THREADS=1' to disable its internal multithreading\n"
     ]
    },
    {
     "data": {
      "application/vnd.jupyter.widget-view+json": {
       "model_id": "5d1466ba133f47a58b980cbd9abb1277",
       "version_major": 2,
       "version_minor": 0
      },
      "text/plain": [
       "HBox(children=(IntProgress(value=0, max=25000), HTML(value='')))"
      ]
     },
     "metadata": {},
     "output_type": "display_data"
    },
    {
     "name": "stdout",
     "output_type": "stream",
     "text": [
      "\n"
     ]
    }
   ],
   "source": [
    "# Initialize the ALS model and fit it using the sparse item-user matrix\n",
    "model = implicit.als.AlternatingLeastSquares(factors = 20, \n",
    "                                             regularization = 0.1,\n",
    "                                             iterations = 25000\n",
    "                                            )\n",
    "\n",
    "# Calculate the confidence by multiplying it by the alpha value.\n",
    "alpha_value = 27\n",
    "data_confidence = (sparse_item_user * alpha_value).astype('double')\n",
    "\n",
    "#Fit the model\n",
    "model.fit(data_confidence)"
   ]
  },
  {
   "cell_type": "markdown",
   "metadata": {},
   "source": [
    "#### Compute the n Most Similar Items for the User-Defined Origin Destination Pair ID"
   ]
  },
  {
   "cell_type": "code",
   "execution_count": 19,
   "metadata": {},
   "outputs": [
    {
     "name": "stdout",
     "output_type": "stream",
     "text": [
      "LHR\n",
      "MBJ\n",
      "LAX\n",
      "ATW\n",
      "FCO\n",
      "DCA\n",
      "BUF\n",
      "MEX\n",
      "LEX\n",
      "SAN\n"
     ]
    }
   ],
   "source": [
    "item_id = user_data[user_data.dest == destination]['od_id'].values[0]\n",
    "n_similar = 10                                    # Number of similar items to compute\n",
    "similar = model.similar_items(item_id, n_similar) # Use implicit to get similar items\n",
    "\n",
    "for item in similar:                              # Print names of the most similar airports\n",
    "    i, score = item\n",
    "    print(user_data.dest.loc[user_data.od_id == i].iloc[0])"
   ]
  },
  {
   "cell_type": "markdown",
   "metadata": {},
   "source": [
    "#### Create Recommendations for a Unique User ID"
   ]
  },
  {
   "cell_type": "code",
   "execution_count": 22,
   "metadata": {},
   "outputs": [],
   "source": [
    "recommended = model.recommend(user_id, sparse_user_item) # Use the implicit recommender\n",
    "airports = []                                            # Empty list to append data\n",
    "scores = []\n",
    "\n",
    "for item in recommended:                                 # Get airport names from ids\n",
    "    i, score = item\n",
    "    try:\n",
    "        airports.append(user_data.dest.loc[user_data.od_id == i].iloc[0])\n",
    "        scores.append(score.round(3))\n",
    "    except:\n",
    "        continue\n",
    "        \n",
    "# Create DataFrame with  recommended airports and scores\n",
    "recommendations = pd.DataFrame({'origin': origin,\n",
    "                                'destination': airports,\n",
    "                                'score': scores\n",
    "                               })"
   ]
  },
  {
   "cell_type": "markdown",
   "metadata": {},
   "source": [
    "#### Join tables and prepare data - to provide supplement information about the recommendations"
   ]
  },
  {
   "cell_type": "code",
   "execution_count": 23,
   "metadata": {},
   "outputs": [
    {
     "name": "stdout",
     "output_type": "stream",
     "text": [
      "Input: ORDLHR\n"
     ]
    },
    {
     "data": {
      "text/html": [
       "<div>\n",
       "<style scoped>\n",
       "    .dataframe tbody tr th:only-of-type {\n",
       "        vertical-align: middle;\n",
       "    }\n",
       "\n",
       "    .dataframe tbody tr th {\n",
       "        vertical-align: top;\n",
       "    }\n",
       "\n",
       "    .dataframe thead th {\n",
       "        text-align: right;\n",
       "    }\n",
       "</style>\n",
       "<table border=\"1\" class=\"dataframe\">\n",
       "  <thead>\n",
       "    <tr style=\"text-align: right;\">\n",
       "      <th></th>\n",
       "      <th>origin</th>\n",
       "      <th>destination</th>\n",
       "      <th>region</th>\n",
       "      <th>city</th>\n",
       "      <th>country</th>\n",
       "      <th>score</th>\n",
       "    </tr>\n",
       "  </thead>\n",
       "  <tbody>\n",
       "    <tr>\n",
       "      <td>0</td>\n",
       "      <td>ORD</td>\n",
       "      <td>ZIH</td>\n",
       "      <td>MBH</td>\n",
       "      <td>Ixtapa/Zihuatanejo</td>\n",
       "      <td>Mexico</td>\n",
       "      <td>0.0</td>\n",
       "    </tr>\n",
       "  </tbody>\n",
       "</table>\n",
       "</div>"
      ],
      "text/plain": [
       "  origin destination region                city country  score\n",
       "0    ORD         ZIH    MBH  Ixtapa/Zihuatanejo  Mexico    0.0"
      ]
     },
     "execution_count": 23,
     "metadata": {},
     "output_type": "execute_result"
    }
   ],
   "source": [
    "# Join Airport Codes to imported .csv file with it's respective city/country\n",
    "cities = pd.read_csv('city_codes.csv', engine = 'python')\n",
    "\n",
    "# Join DataFrames and clean up columns \n",
    "recs = pd.merge(recommendations, cities, on = 'destination', how = 'left')\n",
    "recs['od'] = recs.origin + recs.destination\n",
    "recs = pd.merge(recs, region_data, on = 'od', how = 'left')\n",
    "#recs = recs[recs.region == reg]\n",
    "recs = recs[['origin', 'destination', 'region', 'city', 'country', 'score']].reset_index(drop = True)\n",
    "\n",
    "# Print Results\n",
    "print('Input: {}{}'.format(origin, destination))\n",
    "recs"
   ]
  },
  {
   "cell_type": "code",
   "execution_count": null,
   "metadata": {},
   "outputs": [],
   "source": []
  }
 ],
 "metadata": {
  "kernelspec": {
   "display_name": "Python 3",
   "language": "python",
   "name": "python3"
  },
  "language_info": {
   "codemirror_mode": {
    "name": "ipython",
    "version": 3
   },
   "file_extension": ".py",
   "mimetype": "text/x-python",
   "name": "python",
   "nbconvert_exporter": "python",
   "pygments_lexer": "ipython3",
   "version": "3.7.4"
  }
 },
 "nbformat": 4,
 "nbformat_minor": 2
}
